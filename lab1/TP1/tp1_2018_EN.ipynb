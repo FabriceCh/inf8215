{
 "cells": [
  {
   "cell_type": "markdown",
   "metadata": {
    "colab_type": "text",
    "id": "7cRcaduOsoAJ"
   },
   "source": [
    "# INF 8215 - Intelligence artif.: méthodes et algorithmes \n",
    "## Fall 2018 - TP1 - Research Methods \n",
    "### Team Components\n",
    "    - Fabrice Charbonneau\n",
    "    - Antoine Daigneault-Demers"
   ]
  },
  {
   "cell_type": "markdown",
   "metadata": {
    "colab_type": "text",
    "id": "GoJ5Y8SZsoAM"
   },
   "source": [
    "## Biking in Montreal\n",
    "Approximately 10 million tourists visit Montreal every year. Concerned in providing the best experience during their stay, the tourism department of the city has initialized the development of a new application to help the visitors meet the main touristic attractions of the city in the shortest amount of time. They discovered that, when visiting the city’s attractions, the preferred mean of transportation adopted by the tourists is the bicycle. However, since the tourists do not know the city very well, they usually struggle to create their route in order to visit the planned sights for the day. Thus, given a list of places that the tourist wants to visit, including a starting and ending location, the new application determines the itinerary that passes only once in all attractions defined by the user such that the time spent within his/her route is minimum. \n",
    "\n",
    "<img src=\"images/montreal.png\" alt=\"\" width=\"800\"/>\n",
    "\n",
    "Our job in this TP is to develop this new application. To this end, we will address the problem using three different research methods:\n",
    "1. The first methodology works by defining and exploring a search tree in order to find the route with minimum time\n",
    "2. Next, an A* algorithm will be designed to search the optimal route in this search tree more efficiently \n",
    "3. Last, a heuristic procedure will be created using the Variable Neighborhood Search (VNS) metaheuristic to optimize the problem\n",
    "\n",
    "## Problem representation\n",
    "\n",
    "We can represent our problem using a directed and complete graph, $G(V, A)$, where each city attraction is represented by a vertex in the set of vertices $V$, and $A$ is the set of arcs representing the bicycle path between two attractions. Each arc $a_{ij} \\in A$ has a cost $ w(a_{ij}) $ associated with the time spent on the path from attraction $i$ to attraction $j$. However, it is worth mentioning that the times are not symmetric, hence, is **not** guaranteed that $w(a_{ij}) = w(a_{ji})$. \n",
    "\n",
    "The user of the tool informs the list of $m$ attractions that he/she wishes to visit, $P = \\{p_1,...,p_m\\} $, where $p_1$ and $p_m$ are the starting and ending attractions, respectively.\n",
    "\n",
    "## 1. Defining and exploring a search tree\n",
    "\n",
    "Let us define a search tree, $\\mathcal{T}$, where each node of this tree represents a solution $S$ that is being built. Moreover, let $V(S) \\subseteq V$ be the set of vertices already **visited** and $A(S) \\subset A$ the set of arcs already **selected**. Thus, the cost of $S$ is given by\n",
    "\n",
    "$$g(S) = \\sum_{a \\in A(S)} w(a)$$\n",
    "\n",
    "The root node of the search tree $\\mathcal{T}$ is a solution $S_{root}$ containing only the starting vertex marked as visited, i.e., $V(S_{root})=\\{p_1\\}$ and $A(S_{root}) = \\emptyset$.\n",
    "\n",
    "<img src=\"images/tree1.png\" alt=\"\" width=\"100\"/>\n",
    "\n",
    "Then, children nodes are created by adding an arc from $p_1$ to every vertex $ v \\in P\\backslash V(S_{root})$. However, an arc to the ending attraction can only be added if $p_m$ is the only vertex not visited yet. We denote the new visited vertex as $c$, the current vertex of the solution, i.e., $V(S) \\gets V(S) \\cup \\{c\\}$. \n",
    "\n",
    "<img src=\"images/tree2.png\" alt=\"\" width=\"400\"/>\n",
    "\n",
    "Next, each child node similarly generates its children. For a given child solution $S$ with last added vertex $c$, we add an arc $(c, v)$ to every vertex $v \\in P\\backslash V(S)$. The constraint to add vertex $p_m$ to the solution is kept during the entire process.\n",
    "\n",
    "<img src=\"images/tree3.png\" alt=\"\" width=\"600\"/>\n",
    "\n",
    "The leaf nodes are complete solutions, i.e., $V(S) = P$, with $p_m$ being the last attraction added to the itinerary.  \n",
    "\n",
    "### 1.1 Time to code\n",
    "\n",
    "The code cell below is provided to you with a function to read the graph representing the attractions of Montreal. The function $\\mathtt{read\\_graph}$ returns a numpy array object $|V|\\times |V|$ where the entry $\\mathtt{graph[i,j]}$ contains the time spent biking from attraction $i$ to attraction $j$.\n",
    "\n"
   ]
  },
  {
   "cell_type": "code",
   "execution_count": 1,
   "metadata": {},
   "outputs": [],
   "source": [
    "import numpy as np\n",
    "\n",
    "def read_graph():\n",
    "    return np.loadtxt(\"montreal\", dtype='i', delimiter=',')\n",
    "\n",
    "graph = read_graph()"
   ]
  },
  {
   "cell_type": "markdown",
   "metadata": {},
   "source": [
    "Our first implementation task is to code the class that represents a solution. The code of class Solution below has a constructor (already implemented) that receives the list of $\\mathtt{places}$ representing the set of attractions $P$ and the graph $G$, and creates a blank solution by initializing the following variables:\n",
    "\n",
    "- $\\mathtt{g}$: stores the cost of the solution\n",
    "- $\\mathtt{c}$: indicate the index of the current (last added) vertex of the solution\n",
    "- $\\mathtt{V}$: a list representing $V(S)$\n",
    "- $\\mathtt{unvisited}$: a list representing $P\\backslash V(S)$\n",
    "\n",
    "Alongside the constructor, there is the method $\\mathtt{add}$ which is responsible for adding an arc into the solution. This method receives the index from the $\\mathtt{unvisited}$ list indicating the attraction that will be added. This method also updates the $\\mathtt{V}$ and $\\mathtt{unvisited}$ lists, as well the cost of the solution and vertex $c$.\n",
    "\n",
    "Now, implement the method $\\mathtt{add}$ below."
   ]
  },
  {
   "cell_type": "code",
   "execution_count": 9,
   "metadata": {},
   "outputs": [],
   "source": [
    "import copy\n",
    "\n",
    "class Solution:\n",
    "    def __init__(self, places, graph):\n",
    "        \"\"\"\n",
    "        places: a list containing the indices of attractions to visit\n",
    "        p1 = places[0]\n",
    "        pm = places[-1]\n",
    "        \"\"\"\n",
    "        self.g = 0 # current cost\n",
    "        self.graph = graph \n",
    "        self.visited = [places[0]] # list of already visited attractions\n",
    "        self.not_visited = copy.deepcopy(places[1:]) # list of attractions not yet visited\n",
    "        \n",
    "    def __lt__(self, other):\n",
    "        return fastest_path_estimation(self) + self.g < fastest_path_estimation(other) + other.g\n",
    "\n",
    "    def add(self, idx):\n",
    "        \"\"\"\n",
    "        Adds the point in position idx of not_visited list to the solution\n",
    "        \"\"\"\n",
    "        # add the cost\n",
    "        self.g += self.graph[self.visited[-1], idx]\n",
    "        # add the to the visited place and remove from the unvisited places\n",
    "        self.visited.append(idx)\n",
    "        self.not_visited.remove(idx)\n",
    "        \n",
    "    def swap(self, idx1, idx2):\n",
    "        # Remove the score linked to the two indexes\n",
    "        self.g -= self.graph[self.visited[idx1], self.visited[idx1 + 1]]\n",
    "        self.g -= self.graph[self.visited[idx2], self.visited[idx2 + 1]]\n",
    "\n",
    "        if idx1-idx2 == 1:  # idx1 is just after idx2\n",
    "            self.g -= self.graph[self.visited[idx2 - 1], self.visited[idx2]]\n",
    "        elif idx2-idx1 == 1:  # idx2 is just after idx1\n",
    "            self.g -= self.graph[self.visited[idx1 - 1], self.visited[idx1]]\n",
    "        else:\n",
    "            self.g -= self.graph[self.visited[idx1 - 1], self.visited[idx1]]\n",
    "            self.g -= self.graph[self.visited[idx2 - 1], self.visited[idx2]]\n",
    "\n",
    "        # Swaps the elements at the two given indexes then the indexes\n",
    "        self.visited[idx1], self.visited[idx2] = self.visited[idx2], self.visited[idx1]\n",
    "\n",
    "        # Add the score linked to the two indexes\n",
    "        self.g += self.graph[self.visited[idx1], self.visited[idx1 + 1]]\n",
    "        self.g += self.graph[self.visited[idx2], self.visited[idx2 + 1]]\n",
    "\n",
    "        if idx1-idx2 == 1:  # idx2 is just after idx1\n",
    "            self.g += self.graph[self.visited[idx2 - 1], self.visited[idx2]]\n",
    "\n",
    "        elif idx2-idx1 == 1:  # idx1 is just after idx2\n",
    "            self.g += self.graph[self.visited[idx1 - 1], self.visited[idx1]]\n",
    "        else:\n",
    "            self.g += self.graph[self.visited[idx1 - 1], self.visited[idx1]]\n",
    "            self.g += self.graph[self.visited[idx2 - 1], self.visited[idx2]]\n",
    "        "
   ]
  },
  {
   "cell_type": "markdown",
   "metadata": {},
   "source": [
    "Our next step is to implement a research method to find the best solution in the search tree. A simple strategy to this end would be a [Breadth-first search](https://moodle.polymtl.ca/pluginfile.php/444662/mod_resource/content/1/recherche_en_largeur.mp4) (BFS), which explores the nodes in the sequence as they are scanned using a queue data structure. \n",
    "\n",
    "Now, implement the $\\mathtt{bfs}$ method below that receives the graph and the list of attractions and returns the solution with minimum cost.  "
   ]
  },
  {
   "cell_type": "code",
   "execution_count": 10,
   "metadata": {},
   "outputs": [],
   "source": [
    "from queue import Queue\n",
    "\n",
    "def bfs(graph, places):\n",
    "    \"\"\"\n",
    "    Returns the best solution which spans over all attractions indicated in 'places'\n",
    "    \"\"\"\n",
    "\n",
    "    def get_minimal_solution(sol_queue):\n",
    "        min_solution = queue.get()\n",
    "        min_solution.add(min_solution.not_visited[0])\n",
    "        while not sol_queue.empty():\n",
    "            sol = queue.get()\n",
    "            sol.add(sol.not_visited[0])\n",
    "            if sol.g < min_solution.g:\n",
    "                min_solution = sol\n",
    "        return min_solution\n",
    "\n",
    "    queue = Queue()\n",
    "    queue.put(Solution(places, graph))\n",
    "\n",
    "    node_counter = 1\n",
    "    while True:\n",
    "        solution = queue.get()\n",
    "        if len(solution.not_visited) == 1:\n",
    "            queue.put(solution)\n",
    "            break\n",
    "        for idx in solution.not_visited[:-1]:\n",
    "            new_solution = copy.deepcopy(solution)\n",
    "            new_solution.add(idx)\n",
    "            queue.put(new_solution)\n",
    "            node_counter += 1\n",
    "\n",
    "    print(\"number of nodes explored: \" + str(node_counter))\n",
    "    return get_minimal_solution(queue)\n",
    "    "
   ]
  },
  {
   "cell_type": "markdown",
   "metadata": {},
   "source": [
    "### 1.2 Experiments\n",
    "\n",
    "We propose three illustrative examples to test our search in width. The first example takes into account 7 attractions, the second 10 and the last 11. Since this research lists all possible solutions, the third example may take a considerable time to complete.\n",
    "\n",
    "Implement these experiments and report the number of nodes explored as well as the required computing time."
   ]
  },
  {
   "cell_type": "code",
   "execution_count": 4,
   "metadata": {
    "colab": {},
    "colab_type": "code",
    "id": "H1lFkJPJBcR3"
   },
   "outputs": [
    {
     "name": "stdout",
     "output_type": "stream",
     "text": [
      "number of nodes explored: 326\n",
      "27\n",
      "--- 0.018899202346801758 seconds ---\n"
     ]
    }
   ],
   "source": [
    "import time \n",
    "\n",
    "#test 1  --------------  OPT. SOL. = 27\n",
    "start_time = time.time()\n",
    "places=[0, 5, 13, 16, 6, 9, 4]\n",
    "solu = Solution(places, graph)\n",
    "sol = bfs(graph=graph, places=places)\n",
    "print(sol.g)\n",
    "print(\"--- %s seconds ---\" % (time.time() - start_time))"
   ]
  },
  {
   "cell_type": "code",
   "execution_count": 8,
   "metadata": {
    "colab": {},
    "colab_type": "code",
    "id": "Yn9mUPhBB9hv"
   },
   "outputs": [
    {
     "name": "stdout",
     "output_type": "stream",
     "text": [
      "number of nodes explored: 109601\n",
      "30\n",
      "--- 4.2371666431427 seconds ---\n"
     ]
    }
   ],
   "source": [
    "#test 2 -------------- OPT. SOL. = 30\n",
    "start_time = time.time()\n",
    "places=[0, 1, 4, 9, 20, 18, 16, 5, 13, 19]\n",
    "sol = bfs(graph=graph, places=places)\n",
    "print(sol.g)\n",
    "print(\"--- %s seconds ---\" % (time.time() - start_time))"
   ]
  },
  {
   "cell_type": "code",
   "execution_count": 9,
   "metadata": {},
   "outputs": [
    {
     "name": "stdout",
     "output_type": "stream",
     "text": [
      "number of nodes explored: 986410\n",
      "26\n",
      "--- 39.1921603679657 seconds ---\n"
     ]
    }
   ],
   "source": [
    "#test 3 -------------- OPT. SOL. = 26\n",
    "start_time = time.time()\n",
    "places=[0, 2, 7, 13, 11, 16, 15, 7, 9, 8, 4]\n",
    "sol = bfs(graph=graph, places=places)\n",
    "print(sol.g)\n",
    "print(\"--- %s seconds ---\" % (time.time() - start_time))"
   ]
  },
  {
   "cell_type": "markdown",
   "metadata": {},
   "source": [
    "## 2. Solving with an A* algorithm\n",
    "\n",
    "For our second research method, instead of enumerating all solutions, we intend to guide the search by evaluating the potential of each node of the search tree, prioritizing the solutions with lower estimate costs. To this purpose, each solution $S$ is evaluated by the heuristic function $f(S) = g(S) + h(S) $ that takes into consideration both the current cost of $S$, $g(S)$, and an estimate of the cost (lower bound), $h(S)$, to visit the ending attraction $p_m$ from $S$.\n",
    "\n",
    "For a given solution $S$, with $ c $ being the last added vertex to $V(S)$, the function $h$ could be defined as:\n",
    "\n",
    "$$h(S) = \\text{the shortest path from } c \\text{ to } p_m \\text{ in the graph } G_S  \\text{ induced by the set of vertices } P\\backslash V(S) \\cup \\{c\\} $$\n",
    "\n",
    "In other words, $h(s)$ is a lower bound to the time required to the tourist to arrive at the last attraction, $p_m$, from the current attraction, $c$, passing only through attractions of $P$ still not visited.\n",
    "\n",
    "\n",
    "Hence, we can design our A* algorithm dividing it into the following steps:\n",
    "\n",
    "1. As prevously done, the search tree $\\mathcal{T}$ is initialized with a root solution $S_{root}$ that contains only the starting point, i.e., $V(S_{root}) = p_1, A(S_{root}) = \\emptyset $ and $ c = p_1 $.  The cost of this initial solution is $ g(S_{root}) = 0 $. The estimative for this root solution is not important and can be discarded ($h(S_{root}) = 0 $).\n",
    "\n",
    "2. Select the solution $S_b$ of  $\\mathcal{T}$ that minimizes the heuristic function $f$:\n",
    "$$ f(S_b) \\leq f(S) \\quad \\forall S \\in \\mathcal{T} \\qquad S_B, S \\text{ are nodes of } \\mathcal{T} \\text{ not yet selected}$$\n",
    "Note that, at the first iteration, only the $S_{root}$ is present in $\\mathcal{T}$ and, thus, it will be selected. If $S_b$ is complete, then the optimal solution of the problem is found, and the algorithm ends. Otherwise, the algorithm proceeds normally to step 3.\n",
    "\n",
    "3. Let $c$ be the last visited vertex in $S_b$. For each vertex $ v \\in P\\backslash V(S_b) $, perform the following tasks:\n",
    "  - Create a new solution $S_n$ by adding the arc $ (c, v) $ to the solution\n",
    "  - Update the sets $V(S_n)$ and $A(S_n)$;\n",
    "  - Compute $g(S_n)$ and $h(S_n)$;\n",
    "  - Insert $S_n$ as a new child node in $\\mathcal{T}$\n",
    "  \n",
    "  The vertex $v = p_m$ can be only added to a new solution if it is the only vertex remaining in the set $ P\\backslash V(S_b)$. \n",
    "\n",
    "4. Repeat steps 2 and 3 until the selected solution $S_b$ is **complete**, i.e., $V(S_B) = P$.\n",
    "\n",
    "### 2.1 Time to code\n",
    "\n",
    "Our first implementation task is to increment the code of the class Solution. As we shall see later, a priority queue (heap) is going to be used to implement the search tree T, instead of an ordinary queue previously used. Then, we must prepare the class Solution with a method able to compare two solutions. This is done with the method $\\_\\_\\mathtt{lt}\\_\\_\\mathtt{(self, other)}$ which must return true if $f(self) < f(other)$.\n",
    "\n",
    "Now, implement the function $\\_\\_\\mathtt{lt}\\_\\_\\mathtt{(self, other)}$ in the class Solution.\n",
    "\n",
    "Following that, the next step is to implement the estimation function. To compute the fastest path between two vertices of a graph we can use the [Dijkstra algorithm](https://en.wikipedia.org/wiki/Dijkstra%27s_algorithm) where the source node is the last added vertex, $c$. The Dijkstra algorithm can be adapted to finish as soon as the fastest path to vertex $p_m$ is found.\n",
    "\n",
    "**Implementation guidelines**:\n",
    "  - Apply the Dijkstra algorithm to find the fastest path from $c$ to $p_m$.\n",
    "  - Return the time spent in the path found."
   ]
  },
  {
   "cell_type": "code",
   "execution_count": 11,
   "metadata": {
    "colab": {},
    "colab_type": "code",
    "id": "PxRTHhZmNEOB"
   },
   "outputs": [],
   "source": [
    "import heapq\n",
    "from _heapq import heappush, heappop\n",
    "\n",
    "def fastest_path_estimation(sol):\n",
    "    \"\"\"\n",
    "    Returns the time spent on the fastest path between\n",
    "    the current vertex c and the ending vertex pm\n",
    "    \"\"\"\n",
    "\n",
    "    class Path:\n",
    "        def __init__(self, places, graph):\n",
    "            self.g = 0  # current cost\n",
    "            self.graph = graph\n",
    "            self.visited = [places[0]]  # list of already visited attractions\n",
    "            self.not_visited = copy.deepcopy(places[1:])  # list of attractions not yet visited\n",
    "\n",
    "        def __lt__(self, other):\n",
    "            return self.g < other.g\n",
    "\n",
    "        def add(self, idx):\n",
    "            # add the cost\n",
    "            self.g += self.graph[self.visited[-1], idx]\n",
    "            # add the to the visited place and remove from the unvisited places\n",
    "            self.visited.append(idx)\n",
    "            self.not_visited.remove(idx)\n",
    "\n",
    "    def add_to_heap_queue(path):\n",
    "        # custom function to add to heap queue sorted by the solution's cost\n",
    "        heappush(h_queue, path)\n",
    "\n",
    "    c = sol.visited[-1]\n",
    "    pm = sol.not_visited[-1]\n",
    "    # the heap queue of solution sorted by their cost - change all to tuples with g for dijkstra\n",
    "    h_queue = []\n",
    "\n",
    "    # the places to use for the graph\n",
    "    sub_search_places = [c]\n",
    "    sub_search_places.extend(sol.not_visited)\n",
    "\n",
    "    # push the first \"node\" in the queue\n",
    "    add_to_heap_queue(Path(sub_search_places, sol.graph))\n",
    "    while True:\n",
    "        # take the next solution with the shortest cost\n",
    "        path = heappop(h_queue)\n",
    "        # if it contains destination, stop and return that solution\n",
    "        if pm in path.visited:\n",
    "            return path.g\n",
    "        # create a new solution for each neighbor of the current vertex and add it to heap queue\n",
    "        for place in path.not_visited:\n",
    "            new_path = copy.deepcopy(path)\n",
    "            new_path.add(place)\n",
    "            add_to_heap_queue(new_path)\n"
   ]
  },
  {
   "cell_type": "markdown",
   "metadata": {
    "colab_type": "text",
    "id": "9pjLMOpju-a9"
   },
   "source": [
    "Finally, we must implement the A* function that creates the solution tree and performs the search. To implement the search, we will use a priority queue data structure (heap) to automatically select the solution $S_b$ from $\\mathcal{T}$.\n",
    "\n",
    "**Implementation guidelines**:\n",
    "  - While a complete solution is not selected from the search tree $\\mathcal{T}$ do:\n",
    "      - Selected the top solution of the heap.\n",
    "      - Perform step 3 described above\n",
    "  - Return the optimal solution obtained."
   ]
  },
  {
   "cell_type": "code",
   "execution_count": 12,
   "metadata": {
    "colab": {},
    "colab_type": "code",
    "id": "D6e45uNMvanU"
   },
   "outputs": [],
   "source": [
    "def A_star(graph, places):\n",
    "    \"\"\"\n",
    "    Performs the A* algorithm\n",
    "    \"\"\"\n",
    "    # TODO\n",
    "\n",
    "    # blank solution\n",
    "    root = Solution(graph=graph, places=places)\n",
    "\n",
    "    # search tree T\n",
    "    T = []\n",
    "    heapq.heapify(T)\n",
    "    heapq.heappush(T, root)\n",
    "\n",
    "    n_nodes = 0\n",
    "\n",
    "    while True:\n",
    "        n_nodes += 1\n",
    "        # take the next solution with the shortest cost\n",
    "        sol = heapq.heappop(T)\n",
    "        # if it contains destination, stop and return that solution\n",
    "        if len(sol.not_visited) == 1:\n",
    "            final_sol = sol\n",
    "            final_sol.add(sol.not_visited[0])\n",
    "            break\n",
    "        # create a new solution for each neighbor of the current vertex and add it to heap queue\n",
    "        for idx in sol.not_visited[:-1]:\n",
    "            new_sol = copy.deepcopy(sol)\n",
    "            new_sol.add(idx)\n",
    "            heapq.heappush(T, new_sol)\n",
    "    print(\"number of explored nodes: \" + str(n_nodes))\n",
    "\n",
    "    return final_sol"
   ]
  },
  {
   "cell_type": "markdown",
   "metadata": {
    "colab_type": "text",
    "id": "T2NhBa4GsoAP"
   },
   "source": [
    "### 2.2 Experiments\n",
    "\n",
    "To test our A* algorithm, a fourth experiment with 15 attractions was included in the set of experiments. Once again, for each test, report the time of execution and the number of nodes explored in the search. "
   ]
  },
  {
   "cell_type": "code",
   "execution_count": 13,
   "metadata": {
    "colab": {},
    "colab_type": "code",
    "id": "H1lFkJPJBcR3"
   },
   "outputs": [
    {
     "name": "stdout",
     "output_type": "stream",
     "text": [
      "number of explored nodes: 57\n",
      "27\n",
      "[0, 5, 13, 16, 6, 9, 4]\n",
      "--- 0.27013444900512695 seconds ---\n"
     ]
    }
   ],
   "source": [
    "#test 1  --------------  OPT. SOL. = 27\n",
    "start_time = time.time()\n",
    "places=[0, 5, 13, 16, 6, 9, 4]\n",
    "astar_sol = A_star(graph=graph, places=places)\n",
    "print(astar_sol.g)\n",
    "print(astar_sol.visited)\n",
    "print(\"--- %s seconds ---\" % (time.time() - start_time))"
   ]
  },
  {
   "cell_type": "code",
   "execution_count": 14,
   "metadata": {
    "colab": {},
    "colab_type": "code",
    "id": "Yn9mUPhBB9hv"
   },
   "outputs": [
    {
     "name": "stdout",
     "output_type": "stream",
     "text": [
      "number of explored nodes: 358\n",
      "30\n",
      "[0, 1, 4, 5, 9, 13, 16, 18, 20, 19]\n",
      "--- 6.976341962814331 seconds ---\n"
     ]
    }
   ],
   "source": [
    "#test 2  --------------  OPT. SOL. = 30\n",
    "start_time = time.time()\n",
    "places=[0, 1, 4, 9, 20, 18, 16, 5, 13, 19]\n",
    "astar_sol = A_star(graph=graph, places=places)\n",
    "print(astar_sol.g)\n",
    "print(astar_sol.visited)\n",
    "print(\"--- %s seconds ---\" % (time.time() - start_time))"
   ]
  },
  {
   "cell_type": "code",
   "execution_count": 0,
   "metadata": {
    "colab": {},
    "colab_type": "code",
    "id": "ZX5SD5CRBfKg"
   },
   "outputs": [],
   "source": [
    "#test 3  --------------  OPT. SOL. = 26\n",
    "start_time = time.time()\n",
    "places=[0, 2, 7, 13, 11, 16, 15, 7, 9, 8, 4]\n",
    "astar_sol = A_star(graph=graph, places=places)\n",
    "print(astar_sol.g)\n",
    "print(astar_sol.visited)\n",
    "print(\"--- %s seconds ---\" % (time.time() - start_time))"
   ]
  },
  {
   "cell_type": "code",
   "execution_count": null,
   "metadata": {},
   "outputs": [],
   "source": [
    "#test 4  --------------  OPT. SOL. = 40\n",
    "start_time = time.time()\n",
    "places=[0, 2, 20, 3, 18, 12, 13, 5, 11, 16, 15, 4, 9, 14, 1]\n",
    "astar_sol = A_star(graph=graph, places=places)\n",
    "print(astar_sol.g)\n",
    "print(astar_sol.visited)\n",
    "print(\"--- %s seconds ---\" % (time.time() - start_time))"
   ]
  },
  {
   "cell_type": "markdown",
   "metadata": {},
   "source": [
    "### 2.3 A tighter lower bound - BONUS?\n",
    "\n",
    "While the estimated cost of the fastest path helped the $A*$ algorithm to solve problems with a larger number of attractions, this lower bound does not takes into consideration the cost of visiting the other vertices in $P\\backslash V(S)$. A better estimation for our problem can be given by the **spanning arborescence of minimum weight** (this is the minimum spanning tree version for directed graphs) for the graph $G_S$ induced by the set of vertices $P\\backslash V(S) \\cup \\{c\\} $. This problem seeks to create a tree rooted in a defined vertex, $r$, that visits all vertices of the graph with minimum cost.\n",
    "\n",
    "For our problem, one could define the root vertex as the current vertex of the solution, $r = c$, and compute the sum of costs required to reach the vertices $P\\backslash V(S)$. A classical procedure to solve this problem is the [Edmonds's algorithm](https://en.wikipedia.org/wiki/Edmonds%27_algorithm). Our task now is to implement this algorithm and use it as a new estimation cost, $h(S)$. After that, re-run the experiments in Section 2.2 and report the gains, concerning both the execution times and the number of explored nodes.\n",
    "\n",
    "\n"
   ]
  },
  {
   "cell_type": "code",
   "execution_count": 13,
   "metadata": {},
   "outputs": [],
   "source": [
    "from collections import namedtuple\n",
    "\n",
    "def minimum_spanning_arborescence(sol):\n",
    "    \"\"\"\n",
    "    Returns the cost to reach the vertices in the unvisited list\n",
    "    \"\"\"\n",
    "    Edge = namedtuple('Edge', 'u v w')\n",
    "    graph = read_graph()\n",
    "\n",
    "    def edmonds(edges, v, root):\n",
    "        # determine min cost of edge entering each vertex\n",
    "        minimum_edges = {}\n",
    "        for edge in edges:\n",
    "            if minimum_edges.get(edge.v) is None or edge.w < minimum_edges[edge.v].w:\n",
    "                minimum_edges[edge.v] = edge\n",
    "        minimum_edges[root] = Edge(-1, root, 0)\n",
    "\n",
    "        # Assign each vertex to a group (each group represent a vertex or a cycle)\n",
    "        groups = {}\n",
    "        visited = {}\n",
    "        is_cycle_group = {}\n",
    "        count = 0\n",
    "\n",
    "        # Initiating dictionnaries\n",
    "        for edge in edges:\n",
    "            visited[edge.v] = False\n",
    "            groups[edge.v] = -1\n",
    "\n",
    "        for edge in edges:\n",
    "            if edge.v in visited and visited[edge.v]:\n",
    "                continue\n",
    "\n",
    "            node = edge.v\n",
    "            path = []\n",
    "\n",
    "            while node != -1 and not visited[node]:\n",
    "                visited[node] = True\n",
    "                path.append(node)\n",
    "                node = minimum_edges[node].u\n",
    "\n",
    "            is_cycle = False\n",
    "            for vertex in path:\n",
    "                groups[vertex] = count\n",
    "                if vertex == node:\n",
    "                    is_cycle = True\n",
    "                    is_cycle_group[count] = True\n",
    "                if not is_cycle:\n",
    "                    count += 1\n",
    "\n",
    "            if is_cycle:\n",
    "                count += 1\n",
    "\n",
    "        # Initialising is_cycle_group\n",
    "        for x in range(count):\n",
    "            is_cycle_group[x] = False\n",
    "\n",
    "        # Case where there are no cycle\n",
    "        result = 0\n",
    "        if count == v:\n",
    "            for key, edge in minimum_edges.items():\n",
    "                result += edge.w\n",
    "            return result\n",
    "\n",
    "        for key, edge in minimum_edges.items():\n",
    "            if is_cycle_group[groups[edge.v]]:\n",
    "                result += edge.w\n",
    "\n",
    "        # Create a new graph with the groups found\n",
    "        new_edges = []\n",
    "        for edge in edges:\n",
    "            u = groups[edge.u]\n",
    "            v = groups[edge.v]\n",
    "            w = edge.w\n",
    "\n",
    "            if u == v:\n",
    "                continue\n",
    "\n",
    "            elif is_cycle_group[v]:\n",
    "                new_edges.append(Edge(u, v, w - minimum_edges[edge.v].w))\n",
    "\n",
    "            else:\n",
    "                new_edges.append(Edge(u, v, w))\n",
    "\n",
    "        return result + edmonds(new_edges, count, groups[root])\n",
    "\n",
    "    root = sol.visited[-1]\n",
    "    nodes = copy.deepcopy(sol.not_visited)\n",
    "    nodes.append(root)\n",
    "\n",
    "    edges = []\n",
    "    for node in range(len(nodes)):\n",
    "        for other_node in range(node, len(nodes)):\n",
    "            if node == other_node:\n",
    "                continue\n",
    "            edges.append(Edge(nodes[node], nodes[other_node], graph[nodes[node], nodes[other_node]]))\n",
    "            edges.append(Edge(nodes[other_node], nodes[node], graph[nodes[other_node], nodes[node]]))\n",
    "\n",
    "    return edmonds(edges, len(nodes), root)"
   ]
  },
  {
   "cell_type": "markdown",
   "metadata": {
    "colab_type": "text",
    "id": "r9oJnFHbxrvj"
   },
   "source": [
    "## 2. Optimizing with a VNS heuristic\n",
    "\n",
    "This time, instead of building a solution from scratch by gradually adding arcs to the solution,  our [Variable Neighborhood Search](https://en.wikipedia.org/wiki/Variable_neighborhood_search) (VNS) method will start from a complete initial solution and performs successively swaps on the order in which the attractions are visited to improve the cost of the solution. \n",
    "\n",
    "<img src=\"images/vns.png\" alt=\"\" width=\"800\"/>\n",
    "\n",
    "### 2.1 Time to code\n",
    "\n",
    "Our first implementation task is to construct an initial solution to work with during the search. This solution must be complete, i.e., we must create an ordered set of visited vertex $V(S)$ such that it starts in $p_1$ and finishes in $p_m$. A simple approach to this end is to use a [Depth-First Seach (DFS)](https://moodle.polymtl.ca/pluginfile.php/445484/mod_resource/content/1/recherche_en_profondeur.mp4). The starting point is the vertex representing $p_1$ and, as soon as the ending point is reached after visiting all the others attractions of $P$, the path can be turned into an initial solution. To help in diversifying the search, the method to generate an initial solution can be randomized such that the VNS algorithm can start the search in different regions of the solution space. Thus, in the DFS function, the selection of the child to continue the search must be random.\n",
    "\n",
    "Now. implement the **initial_sol** method to construct a random initial solution and uses the **dfs** function to find a path from $p_1$ to $p_m$.\n",
    "\n",
    "\n",
    "\n",
    "**Implementation guidelines**:\n",
    "  - Call the dfs function to find a complete path from  $p_1$ to $p_m$.\n",
    "  - Create a root solution\n",
    "  - Adjust the solution cost and the set V with the path found\n",
    "  - Return the solution created\n",
    "\n"
   ]
  },
  {
   "cell_type": "code",
   "execution_count": 14,
   "metadata": {
    "colab": {},
    "colab_type": "code",
    "id": "JKx9Z-ayxzSw"
   },
   "outputs": [],
   "source": [
    "from random import shuffle, randint\n",
    "\n",
    "def initial_sol(graph, places):\n",
    "    \"\"\"\n",
    "    Return a completed initial solution\n",
    "    \"\"\"\n",
    "    possible_places = places[1:-1]\n",
    "    shuffle(possible_places)\n",
    "    shuffled_places = [places[0]] + possible_places + [places[-1]]\n",
    "    sol = Solution(shuffled_places, graph)\n",
    "    while len(sol.not_visited) != 0:\n",
    "        sol.add(sol.not_visited[0])\n",
    "    return sol"
   ]
  },
  {
   "cell_type": "markdown",
   "metadata": {
    "colab_type": "text",
    "id": "JnTFBFqvXpNz"
   },
   "source": [
    "A key feature of the VNS metaheuristic is the ability to define $k_{max}$ neighborhoods to diversify the search and escape from local optima. For our problem, a simple and efficient neighborhood structure could be neighborhoods based on **swapping** the order in which two points are visited within the route. Thus, given a solution $S$, with $V(S)$ being the ordered set in which the points were visited, a solution on the $k$-th neighborhood of $S$ can be obtained by selecting $k$ *random* pairs of vertices, different from $p_1$ and $p_m$, and swap their position in $V(S)$.\n",
    "\n",
    "In the VNS framework, the procedure of generating a solution on the $k$-th neighborhood of $S$ is known as the **shaking** step. Thus, our task now is to implement this shaking method that receives a solution, the neighborhood index $k$ and the graph $G$ and returns a new solution on the $k$-th neighborhood of $S$. \n",
    "\n",
    "However, before implementing the shaking method below, we must first return to the implementation of class Solution and finish the **swap** method. This method is responsible for updating the position of the vertices being swapped in the $V(S)$ set and, consequentily, the solution cost. It receives the indices of the two selected vertices of $V(S)$ and the graph $G$.\n",
    "\n",
    "\n",
    "**Implementation guidelines (shaking)**:\n",
    "  - Select two indices, $i$ and $j$, such that $i \\neq j$ and $i, j \\in \\{2...m-1\\}$\n",
    "  - Make a copy of the $sol$ and perfom the swap\n",
    "  - Return the created solution"
   ]
  },
  {
   "cell_type": "code",
   "execution_count": 15,
   "metadata": {
    "colab": {},
    "colab_type": "code",
    "id": "EWLAhZUlfFOZ"
   },
   "outputs": [],
   "source": [
    "def shaking(sol, k):\n",
    "    \"\"\"\n",
    "    Returns a solution on the k-th neighborhood of sol\n",
    "    \"\"\"\n",
    "    new_solution = copy.deepcopy(sol)\n",
    "    for x in range(k):\n",
    "        idx1 = randint(1, len(new_solution.visited) - 2)\n",
    "        idx2 = randint(1, len(new_solution.visited) - 2)\n",
    "        new_solution.swap(idx1, idx2)\n",
    "\n",
    "    return new_solution"
   ]
  },
  {
   "cell_type": "markdown",
   "metadata": {
    "colab_type": "text",
    "id": "PD_PxV54sl1o"
   },
   "source": [
    "Another essential step in the VNS algorithm is to invoke a local search routine to improve the solution cost. For our problem, an efficient local search procedure would be to search for a pair of vertices, $i$ and $j$, such that their swapping position in $V(S)$ leads it to a reduction in the solution cost. This local search is known as 2-opt, and we are going to implement in this TP. \n",
    "\n",
    "Formally, consider a solution $S$ and the ordered set of vertices $V(S)$. For a vertex $i$, let $i'$ be the immediate successor of $i$ in the sequence $V(S)$. The 2-opt algorithm work as follows: for every  pair of non-consecutive vertices $i,j$, check if by swapping the position of vertices $i'$ and $j$ results in a improvement in the solution cost. If so, perform this swap. This process is repeated until there are no more profitable exchanges. The 2-opt heuristic is illustrated in the figure below. \n",
    "\n",
    "\n",
    "<img src=\"images/2opt.png\" alt=\"\" width=\"800\"/>\n",
    "\n",
    "<img src=\"images/2opt2.png\" alt=\"\" width=\"800\"/>\n",
    "\n",
    "\n",
    "\n",
    "Now implement the **local_search_2opt** fuction below. \n",
    "\n",
    "\n",
    "\n",
    "**Implementation guidelines**:\n",
    "  - Check every pair of indices, $i = \\{2,..,m-3\\}$ and $j = \\{i+2, m-1\\}$ for a improvement in the solution cost\n",
    "  - If the exchange is profitable, perform it\n",
    "  - Repeat the process until no more profitable swap can be found"
   ]
  },
  {
   "cell_type": "code",
   "execution_count": 16,
   "metadata": {
    "colab": {},
    "colab_type": "code",
    "id": "_97d-BQV8tzt"
   },
   "outputs": [],
   "source": [
    "def local_search_2opt(sol):\n",
    "    \"\"\"\n",
    "    Apply 2-opt local search over sol\n",
    "    \"\"\"\n",
    "    improvement = True\n",
    "\n",
    "    while improvement:\n",
    "        improvement = False\n",
    "        for i in range(1, len(sol.visited) - 2):\n",
    "            for j in range(1, len(sol.visited) -2):\n",
    "                new_solution = copy.deepcopy(sol)\n",
    "                new_solution.swap(i, j)\n",
    "                if new_solution.g < sol.g:\n",
    "                    sol = new_solution\n",
    "                    improvement = True"
   ]
  },
  {
   "cell_type": "markdown",
   "metadata": {
    "colab_type": "text",
    "id": "ZPG90m1g_HgA"
   },
   "source": [
    "Finally, our last implementation step is to code the VNS algorithm itself. The method receives an initial solution  and returns the best solution found during the search. Alongside the solution and the graph, the method also receives two other parameters: $k_{max} $, which defines the number of neighborhoods; and $t_{max}$, which sets the time limit to run the heuristic.\n",
    "\n",
    "\n",
    "**Implementation guidelines**:\n",
    "  - At each iteration of the VNS, generate a solution on the k-th neighrborhood of the current best solution and apply a local search on it.\n",
    "  - If the new solution has a better cost than the current best solution, update the best solution with the new found solution. \n",
    "  - Repeat the process until the time limit is met"
   ]
  },
  {
   "cell_type": "code",
   "execution_count": 17,
   "metadata": {
    "colab": {},
    "colab_type": "code",
    "id": "ZQwCN2HB_m-q"
   },
   "outputs": [],
   "source": [
    "def vns(sol, k_max, t_max):\n",
    "    \"\"\"\n",
    "    Performs the VNS algorithm\n",
    "    \"\"\"\n",
    "    start_time = time.time()\n",
    "\n",
    "    while time.time() - start_time < t_max:\n",
    "        new_solution = shaking(sol, k_max)\n",
    "        local_search_2opt(new_solution)\n",
    "        if new_solution.g < sol.g:\n",
    "            sol = new_solution\n",
    "\n",
    "    return sol"
   ]
  },
  {
   "cell_type": "markdown",
   "metadata": {
    "colab_type": "text",
    "id": "z5TPMN2XCkPc"
   },
   "source": [
    "### 2.2 Experiments\n",
    "\n",
    "Run the VNS on the following illustrative examples and report the obtained solutions:"
   ]
  },
  {
   "cell_type": "code",
   "execution_count": 18,
   "metadata": {
    "colab": {},
    "colab_type": "code",
    "id": "Ox0PScj5CTzq"
   },
   "outputs": [
    {
     "name": "stdout",
     "output_type": "stream",
     "text": [
      "27\n",
      "[0, 5, 13, 16, 6, 9, 4]\n",
      "--- 1.0008893013000488 seconds ---\n"
     ]
    }
   ],
   "source": [
    "# test 1  --------------  OPT. SOL. = 27\n",
    "places=[0, 5, 13, 16, 6, 9, 4]\n",
    "sol = initial_sol(graph=graph, places=places)\n",
    "start_time = time.time()\n",
    "vns_sol = vns(sol=sol, k_max=10, t_max=1)\n",
    "print(vns_sol.g)\n",
    "print(vns_sol.visited)\n",
    "print(\"--- %s seconds ---\" % (time.time() - start_time))"
   ]
  },
  {
   "cell_type": "code",
   "execution_count": 19,
   "metadata": {
    "colab": {},
    "colab_type": "code",
    "id": "a5IB2FbqCTz3"
   },
   "outputs": [
    {
     "name": "stdout",
     "output_type": "stream",
     "text": [
      "42\n",
      "[0, 1, 4, 9, 5, 18, 20, 16, 13, 19]\n",
      "--- 1.0013229846954346 seconds ---\n"
     ]
    }
   ],
   "source": [
    "#test 2  --------------  OPT. SOL. = 30\n",
    "places=[0, 1, 4, 9, 20, 18, 16, 5, 13, 19]\n",
    "sol = initial_sol(graph=graph, places=places)\n",
    "\n",
    "start_time = time.time()\n",
    "vns_sol = vns(sol=sol, k_max=10, t_max=1)\n",
    "print(vns_sol.g)\n",
    "print(vns_sol.visited)\n",
    "\n",
    "print(\"--- %s seconds ---\" % (time.time() - start_time))"
   ]
  },
  {
   "cell_type": "code",
   "execution_count": 20,
   "metadata": {
    "colab": {},
    "colab_type": "code",
    "id": "nkNwTmxPCTz9"
   },
   "outputs": [
    {
     "name": "stdout",
     "output_type": "stream",
     "text": [
      "35\n",
      "[0, 7, 2, 7, 8, 16, 11, 13, 15, 9, 4]\n",
      "--- 1.0025007724761963 seconds ---\n"
     ]
    }
   ],
   "source": [
    "# test 3  --------------  OPT. SOL. = 26\n",
    "places=[0, 2, 7, 13, 11, 16, 15, 7, 9, 8, 4]\n",
    "sol = initial_sol(graph=graph, places=places)\n",
    "\n",
    "start_time = time.time()\n",
    "vns_sol = vns(sol=sol, k_max=10, t_max=1)\n",
    "print(vns_sol.g)\n",
    "print(vns_sol.visited)\n",
    "print(\"--- %s seconds ---\" % (time.time() - start_time))"
   ]
  },
  {
   "cell_type": "code",
   "execution_count": 21,
   "metadata": {},
   "outputs": [
    {
     "name": "stdout",
     "output_type": "stream",
     "text": [
      "74\n",
      "[0, 2, 3, 5, 4, 11, 18, 13, 16, 9, 14, 12, 15, 20, 1]\n",
      "--- 1.0029056072235107 seconds ---\n"
     ]
    }
   ],
   "source": [
    "# test 4  --------------  OPT. SOL. = 40\n",
    "places=[0, 2, 20, 3, 18, 12, 13, 5, 11, 16, 15, 4, 9, 14, 1]\n",
    "sol = initial_sol(graph=graph, places=places)\n",
    "\n",
    "start_time = time.time()\n",
    "vns_sol = vns(sol=sol, k_max=10, t_max=1)\n",
    "print(vns_sol.g)\n",
    "print(vns_sol.visited)\n",
    "print(\"--- %s seconds ---\" % (time.time() - start_time))"
   ]
  },
  {
   "cell_type": "markdown",
   "metadata": {},
   "source": [
    "## 4. BONUS SECTION (1 point)\n",
    "\n",
    "Explain in which situation each of the developed algorithms is more appropriate (hint: take into consideration the scalability of the problem)"
   ]
  },
  {
   "cell_type": "code",
   "execution_count": 26,
   "metadata": {},
   "outputs": [
    {
     "ename": "SyntaxError",
     "evalue": "invalid syntax (<ipython-input-26-327670761907>, line 1)",
     "output_type": "error",
     "traceback": [
      "\u001b[1;36m  File \u001b[1;32m\"<ipython-input-26-327670761907>\"\u001b[1;36m, line \u001b[1;32m1\u001b[0m\n\u001b[1;33m    The BFS algorithm is good to use when the number of possible paths is not too big.his algorithm will look at all the solutions and intermediate steps.\u001b[0m\n\u001b[1;37m          ^\u001b[0m\n\u001b[1;31mSyntaxError\u001b[0m\u001b[1;31m:\u001b[0m invalid syntax\n"
     ]
    }
   ],
   "source": [
    "\"\"\"\n",
    "The BFS algorithm is good to use when the number of possible paths is not too big and the problem is relatively \n",
    "simple. This algorithm will find ALL THE SOLUTIONS and intermediate steps, so its search time grows extremely\n",
    "fast.\n",
    "\n",
    "The A* algorithm uses an approach resembling a BFS, except that it will not explore all of the possible nodes thus\n",
    "it does not find all of the possible solutions like the BFS. This is useful when the number of possible solutions\n",
    "is very big and a BFS takes too much time, and finding all of the possible solutions is not much more interesting \n",
    "than finding THE BEST SOLUTION. The heuristic function used in A* can influence the performance by a considerable\n",
    "amount. Depending on the problem, if there is a heuristic function that can give a better estimationon the cost of\n",
    "the next decision to make, A* can perform better.\n",
    "\n",
    "The VNS algorithm is very useful when the number of possible paths is huge and that you are not looking for an\n",
    "optimal solution. This algorithm will either find the optimal solution or a local minimum. You can also adjust the\n",
    "time it takes to find a better solution according to how good you want the solution to be and how much time you \n",
    "have. This algorithm is useful when the problem only requires to find A GOOD SOLUTION.\n",
    "\"\"\""
   ]
  }
 ],
 "metadata": {
  "colab": {
   "name": "tp1_2018.ipynb",
   "provenance": [],
   "version": "0.3.2"
  },
  "kernelspec": {
   "display_name": "Python 3",
   "language": "python",
   "name": "python3"
  },
  "language_info": {
   "codemirror_mode": {
    "name": "ipython",
    "version": 3
   },
   "file_extension": ".py",
   "mimetype": "text/x-python",
   "name": "python",
   "nbconvert_exporter": "python",
   "pygments_lexer": "ipython3",
   "version": "3.6.3"
  }
 },
 "nbformat": 4,
 "nbformat_minor": 1
}
